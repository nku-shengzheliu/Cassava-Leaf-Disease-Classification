{
 "cells": [
  {
   "cell_type": "code",
   "execution_count": null,
   "metadata": {
    "collapsed": true
   },
   "outputs": [],
   "source": [
    "\"\"\" change working directory \"\"\"\n",
    "import os\n",
    "\n",
    "if os.path.basename(os.getcwd()) == 'working':\n",
    "    os.chdir('../input/cvhomeworkfocalloss')\n",
    "print('current working directory is {}'.format(os.getcwd()))\n",
    "\n",
    "print(os.getcwd())\n",
    "print(os.listdir(os.getcwd()))\n"
   ]
  },
  {
   "cell_type": "code",
   "execution_count": null,
   "outputs": [],
   "source": [
    "import torch\n",
    "import torchvision.transforms as transforms\n",
    "from models.efficientNet.model import EfficientNet\n",
    "from torch.utils.data import DataLoader,Dataset\n",
    "from torch.autograd import Variable\n",
    "from PIL import Image\n",
    "import numpy as np\n",
    "import pandas as pd\n",
    "import random\n",
    "import os\n",
    "from tqdm.notebook import tqdm\n",
    "from imgaug import augmenters as iaa\n"
   ],
   "metadata": {
    "collapsed": false,
    "pycharm": {
     "name": "#%%\n"
    }
   }
  },
  {
   "cell_type": "markdown",
   "source": [
    "## Cfg"
   ],
   "metadata": {
    "collapsed": false
   }
  },
  {
   "cell_type": "code",
   "execution_count": null,
   "outputs": [],
   "source": [
    "class cfg:\n",
    "    \"\"\"Main config.\"\"\"\n",
    "    NUMCLASSES = 5  # CONST\n",
    "    seed = 42  # random seed\n",
    "\n",
    "    pathtoimgs = \"../cassava-leaf-disease-classification/test_images\"  # Path to folder with train images\n",
    "    # pathtoimgs = \"E:/0_Project/2020.03/computer_vision_dataset/cassava-leaf-disease-classification/test_images\"\n",
    "    pathtocsv = \"../cassava-leaf-disease-classification/sample_submission.csv\"  # Path to csv-file with targets\n",
    "    # pathtocsv = \"./sample_submission.csv\"\n",
    "    chk = \"./best2.pth\"  # Path to model checkpoint (weights)\n",
    "    device = torch.device(\"cuda\" if torch.cuda.is_available() else \"cpu\")  # Device\n",
    "    modelname = \"efficientnet-b4\"  # PyTorch model\n",
    "    batchsize = 1  # BatchSize\n",
    "    numworkers = 4  # Number of workers\n",
    "\n",
    "def fullseed(seed=42):\n",
    "    \"\"\"Sets the random seeds.\"\"\"\n",
    "    random.seed(seed)\n",
    "    np.random.seed(seed)\n",
    "    torch.manual_seed(seed)\n",
    "    torch.cuda.manual_seed(seed)\n",
    "    torch.backends.cudnn.deterministic = True\n",
    "    torch.backends.cudnn.benchmark = True\n",
    "    os.environ['PYTHONHASHSEED'] = str(seed)\n",
    "fullseed(cfg.seed)"
   ],
   "metadata": {
    "collapsed": false,
    "pycharm": {
     "name": "#%%\n"
    }
   }
  },
  {
   "cell_type": "markdown",
   "source": [
    "## load model"
   ],
   "metadata": {
    "collapsed": false
   }
  },
  {
   "cell_type": "code",
   "execution_count": null,
   "outputs": [],
   "source": [
    "def get_model(cfg):\n",
    "    \"\"\"Get PyTorch model.\"\"\"\n",
    "    model = EfficientNet.from_name(cfg.modelname, in_channels=3, num_classes=5)\n",
    "    model.load_state_dict(torch.load(cfg.chk))\n",
    "    return model.to(cfg.device)"
   ],
   "metadata": {
    "collapsed": false,
    "pycharm": {
     "name": "#%%\n"
    }
   }
  },
  {
   "cell_type": "markdown",
   "source": [
    "## dataset class"
   ],
   "metadata": {
    "collapsed": false
   }
  },
  {
   "cell_type": "code",
   "execution_count": null,
   "outputs": [],
   "source": [
    "class Single_Dataset(Dataset):\n",
    "    def __init__(self, cfg, images, is_train , transform = None):\n",
    "        super(Single_Dataset,self).__init__()\n",
    "        self.is_train = is_train\n",
    "        self.transform = transform\n",
    "        self.cfg = cfg  # Config\n",
    "        self.images = images  # List with images\n",
    "\n",
    "        self.seq = iaa.SomeOf((3, 11), {\n",
    "            # self.seq = iaa.SomeOf((0, 5), {\n",
    "            # iaa.Fliplr(0.5),\n",
    "            iaa.Flipud(0.5),\n",
    "            # iaa.Crop(percent=(0, 0.1)),\n",
    "            # Small gaussian blur with random sigma between 0 and 0.5.\n",
    "            # But we only blur about 50% of all images.\n",
    "            iaa.Sometimes(0.5, iaa.GaussianBlur(sigma=(0, 0.5))),\n",
    "            # Strengthen or weaken the contrast in each image.\n",
    "            iaa.ContrastNormalization((0.75, 1.5)),\n",
    "            # 先将图片从RGB变换到HSV,然后将H值增加10,然后再变换回RGB\n",
    "            iaa.WithColorspace(to_colorspace=\"HSV\", from_colorspace=\"RGB\",\n",
    "                               children=iaa.WithChannels(2, iaa.Add((10, 50)))),\n",
    "            iaa.AverageBlur(k=((2, 5), (1, 3))),\n",
    "            iaa.SimplexNoiseAlpha(\n",
    "                first=iaa.EdgeDetect((0.0, 0.2)),\n",
    "                second=iaa.ContrastNormalization((0.5, 2.0)),\n",
    "                per_channel=True\n",
    "            ),\n",
    "            # Add gaussian noise.\n",
    "            # For 50% of all images, we sample the noise once per pixel.\n",
    "            # For the other 50% of all images, we sample the noise per pixel AND\n",
    "            # channel. This can change the color (not only brightness) of the\n",
    "            # pixels.\n",
    "            iaa.ImpulseNoise(p=0.02),\n",
    "            iaa.AdditiveGaussianNoise(loc=0, scale=(0.0, 0.02 * 255), per_channel=0.5),\n",
    "            # Make some images brighter and some darker.\n",
    "            # In 20% of all cases, we sample the multiplier once per channel,\n",
    "            # which can end up changing the color of the images.\n",
    "            iaa.Multiply((0.8, 1.2), per_channel=0.2),\n",
    "            iaa.PerspectiveTransform(scale=0.06),\n",
    "            # # 图像扭曲\n",
    "            # iaa.PiecewiseAffine(scale=(0.01, 0.05)),\n",
    "            # Apply affine transformations to each image.\n",
    "            # Scale/zoom them, translate/move them, rotate them and shear them.\n",
    "            iaa.Affine(\n",
    "                scale={\"x\": (0.8, 1.2), \"y\": (0.8, 1.2)},\n",
    "                translate_percent={\"x\": (-0.2, 0.2), \"y\": (-0.2, 0.2)},\n",
    "                rotate=(-45, 45),\n",
    "                shear=(-8, 8)\n",
    "            )\n",
    "        }, random_order=True)\n",
    "\n",
    "    def __getitem__(self, index):\n",
    "        img = Image.open(os.path.join(self.cfg.pathtoimgs, self.images[index])).convert('RGB')\n",
    "        if self.is_train:\n",
    "            img = self.seq.augment_image(np.array(img))\n",
    "            img = Image.fromarray(img)\n",
    "        if self.transform is not None:\n",
    "            img = self.transform(img)\n",
    "\n",
    "        return img\n",
    "\n",
    "    def __len__(self):\n",
    "        return len(self.images)\n"
   ],
   "metadata": {
    "collapsed": false,
    "pycharm": {
     "name": "#%%\n"
    }
   }
  },
  {
   "cell_type": "markdown",
   "source": [
    "## load data"
   ],
   "metadata": {
    "collapsed": false
   }
  },
  {
   "cell_type": "code",
   "execution_count": null,
   "outputs": [],
   "source": [
    "def get_loader(cfg):\n",
    "    \"\"\"Getting dataloaders for train, validation (and test, if needed).\"\"\"\n",
    "    data = pd.read_csv(cfg.pathtocsv)\n",
    "    imgs = list(data[\"image_id\"])\n",
    "    test_transform = transforms.Compose([transforms.Resize((512, 512)),\n",
    "                                         transforms.ToTensor(),\n",
    "                                         transforms.Normalize(mean=(0.42984136, 0.49624753, 0.3129598), std=(0.21417203, 0.21910103, 0.19542212))\n",
    "                                         ])\n",
    "    test_dataset = Single_Dataset(\n",
    "        cfg = cfg,\n",
    "        images = imgs,\n",
    "        is_train=False,\n",
    "        transform=test_transform\n",
    "    )\n",
    "    dataloader = torch.utils.data.DataLoader(test_dataset,\n",
    "                                             shuffle=False,\n",
    "                                             batch_size=cfg.batchsize,\n",
    "                                             pin_memory=True,\n",
    "                                             num_workers=cfg.numworkers)\n",
    "    return dataloader"
   ],
   "metadata": {
    "collapsed": false,
    "pycharm": {
     "name": "#%%\n"
    }
   }
  },
  {
   "cell_type": "markdown",
   "source": [
    "## Inference"
   ],
   "metadata": {
    "collapsed": false
   }
  },
  {
   "cell_type": "code",
   "execution_count": null,
   "outputs": [],
   "source": [
    "torch.cuda.empty_cache()\n",
    "dataloader = get_loader(cfg)\n",
    "model = get_model(cfg)\n",
    "model.eval()\n",
    "preds = []\n",
    "with torch.no_grad():\n",
    "    for img in tqdm(dataloader):\n",
    "        img = Variable(img)\n",
    "        outputs = model(img.to(cfg.device))\n",
    "        preds.append(np.argmax(outputs.to('cpu').numpy()).tolist())"
   ],
   "metadata": {
    "collapsed": false,
    "pycharm": {
     "name": "#%%\n"
    }
   }
  },
  {
   "cell_type": "code",
   "execution_count": null,
   "outputs": [],
   "source": [
    "print(preds)"
   ],
   "metadata": {
    "collapsed": false,
    "pycharm": {
     "name": "#%%\n"
    }
   }
  },
  {
   "cell_type": "markdown",
   "source": [
    "## save result"
   ],
   "metadata": {
    "collapsed": false
   }
  },
  {
   "cell_type": "code",
   "execution_count": null,
   "outputs": [],
   "source": [
    "# Creating submission file\n",
    "df = pd.read_csv(cfg.pathtocsv)\n",
    "df.head()\n",
    "df[\"label\"] = preds\n",
    "df.to_csv('/kaggle/working/submission.csv', index=False)\n",
    "df.head()\n"
   ],
   "metadata": {
    "collapsed": false,
    "pycharm": {
     "name": "#%%\n"
    }
   }
  }
 ],
 "metadata": {
  "kernelspec": {
   "display_name": "Python 3",
   "language": "python",
   "name": "python3"
  },
  "language_info": {
   "codemirror_mode": {
    "name": "ipython",
    "version": 2
   },
   "file_extension": ".py",
   "mimetype": "text/x-python",
   "name": "python",
   "nbconvert_exporter": "python",
   "pygments_lexer": "ipython2",
   "version": "2.7.6"
  },
  "pycharm": {
   "stem_cell": {
    "cell_type": "raw",
    "source": [],
    "metadata": {
     "collapsed": false
    }
   }
  }
 },
 "nbformat": 4,
 "nbformat_minor": 0
}