{
 "cells": [
  {
   "cell_type": "code",
   "execution_count": null,
   "metadata": {
    "collapsed": true
   },
   "outputs": [],
   "source": [
    "\"\"\" change working directory \"\"\"\n",
    "import os\n",
    "\n",
    "if os.path.basename(os.getcwd()) == 'working':\n",
    "    os.chdir('../input/cvhomeworkfocalloss')\n",
    "print('current working directory is {}'.format(os.getcwd()))\n",
    "\n",
    "print(os.getcwd())\n",
    "print(os.listdir(os.getcwd()))\n"
   ]
  },
  {
   "cell_type": "code",
   "execution_count": null,
   "outputs": [],
   "source": [
    "import torch\n",
    "import torchvision.transforms as transforms\n",
    "from models.efficientNet.model import EfficientNet\n",
    "from torch.utils.data import DataLoader,Dataset\n",
    "from torch.autograd import Variable\n",
    "from PIL import Image\n",
    "import numpy as np\n",
    "import pandas as pd\n",
    "import random\n",
    "import os\n",
    "from tqdm.notebook import tqdm\n"
   ],
   "metadata": {
    "collapsed": false,
    "pycharm": {
     "name": "#%%\n"
    }
   }
  },
  {
   "cell_type": "markdown",
   "source": [
    "## Cfg"
   ],
   "metadata": {
    "collapsed": false
   }
  },
  {
   "cell_type": "code",
   "execution_count": null,
   "outputs": [],
   "source": [
    "class cfg:\n",
    "    \"\"\"Main config.\"\"\"\n",
    "    NUMCLASSES = 5  # CONST\n",
    "    seed = 42  # random seed\n",
    "\n",
    "    pathtoimgs = \"../cassava-leaf-disease-classification/test_images\"  # Path to folder with train images\n",
    "    # pathtoimgs = \"E:/0_Project/2020.03/computer_vision_dataset/cassava-leaf-disease-classification/test_images\"\n",
    "    pathtocsv = \"../cassava-leaf-disease-classification/sample_submission.csv\"  # Path to csv-file with targets\n",
    "    # pathtocsv = \"./sample_submission.csv\"\n",
    "    chk = \"./best.pth\"  # Path to model checkpoint (weights)\n",
    "    device = torch.device(\"cuda\" if torch.cuda.is_available() else \"cpu\")  # Device\n",
    "    modelname = \"efficientnet-b4\"  # PyTorch model\n",
    "    batchsize = 1  # BatchSize\n",
    "    numworkers = 4  # Number of workers\n",
    "\n",
    "def fullseed(seed=42):\n",
    "    \"\"\"Sets the random seeds.\"\"\"\n",
    "    random.seed(seed)\n",
    "    np.random.seed(seed)\n",
    "    torch.manual_seed(seed)\n",
    "    torch.cuda.manual_seed(seed)\n",
    "    torch.backends.cudnn.deterministic = True\n",
    "    torch.backends.cudnn.benchmark = True\n",
    "    os.environ['PYTHONHASHSEED'] = str(seed)\n",
    "fullseed(cfg.seed)"
   ],
   "metadata": {
    "collapsed": false,
    "pycharm": {
     "name": "#%%\n"
    }
   }
  },
  {
   "cell_type": "markdown",
   "source": [
    "## load model"
   ],
   "metadata": {
    "collapsed": false
   }
  },
  {
   "cell_type": "code",
   "execution_count": null,
   "outputs": [],
   "source": [
    "def get_model(cfg):\n",
    "    \"\"\"Get PyTorch model.\"\"\"\n",
    "    model = EfficientNet.from_name(cfg.modelname, in_channels=3, num_classes=5)\n",
    "    model.load_state_dict(torch.load(cfg.chk))\n",
    "    return model.to(cfg.device)"
   ],
   "metadata": {
    "collapsed": false,
    "pycharm": {
     "name": "#%%\n"
    }
   }
  },
  {
   "cell_type": "markdown",
   "source": [
    "## dataset class"
   ],
   "metadata": {
    "collapsed": false
   }
  },
  {
   "cell_type": "code",
   "execution_count": null,
   "outputs": [],
   "source": [
    "class Single_Dataset(Dataset):\n",
    "    def __init__(self, cfg, images, is_train , transform = None):\n",
    "        super(Single_Dataset,self).__init__()\n",
    "        self.cfg = cfg  # Config\n",
    "        self.images = images  # List with images\n",
    "        self.is_train = is_train\n",
    "        self.transform = transform\n",
    "    def __getitem__(self, index):\n",
    "        img = Image.open(os.path.join(self.cfg.pathtoimgs, self.images[index])).convert('RGB')\n",
    "        if self.transform is not None:\n",
    "            img = self.transform(img)\n",
    "        return img\n",
    "    def __len__(self):\n",
    "        return len(self.images)"
   ],
   "metadata": {
    "collapsed": false,
    "pycharm": {
     "name": "#%%\n"
    }
   }
  },
  {
   "cell_type": "markdown",
   "source": [
    "## load data"
   ],
   "metadata": {
    "collapsed": false
   }
  },
  {
   "cell_type": "code",
   "execution_count": null,
   "outputs": [],
   "source": [
    "def get_loader(cfg):\n",
    "    \"\"\"Getting dataloaders for train, validation (and test, if needed).\"\"\"\n",
    "    data = pd.read_csv(cfg.pathtocsv)\n",
    "    imgs = list(data[\"image_id\"])\n",
    "    test_transform = transforms.Compose([transforms.Resize((512, 512)),\n",
    "                                         transforms.ToTensor(),\n",
    "                                         transforms.Normalize(mean=(0.430, 0.497, 0.313), std=(0.238, 0.241, 0.229))\n",
    "                                         ])\n",
    "    test_dataset = Single_Dataset(\n",
    "        cfg = cfg,\n",
    "        images = imgs,\n",
    "        is_train=False,\n",
    "        transform=test_transform\n",
    "    )\n",
    "    dataloader = torch.utils.data.DataLoader(test_dataset,\n",
    "                                             shuffle=False,\n",
    "                                             batch_size=cfg.batchsize,\n",
    "                                             pin_memory=True,\n",
    "                                             num_workers=cfg.numworkers)\n",
    "    return dataloader"
   ],
   "metadata": {
    "collapsed": false,
    "pycharm": {
     "name": "#%%\n"
    }
   }
  },
  {
   "cell_type": "markdown",
   "source": [
    "## Inference"
   ],
   "metadata": {
    "collapsed": false
   }
  },
  {
   "cell_type": "code",
   "execution_count": null,
   "outputs": [],
   "source": [
    "torch.cuda.empty_cache()\n",
    "dataloader = get_loader(cfg)\n",
    "model = get_model(cfg)\n",
    "model.eval()\n",
    "preds = []\n",
    "with torch.no_grad():\n",
    "    for img in tqdm(dataloader):\n",
    "        img = Variable(img)\n",
    "        outputs = model(img.to(cfg.device))\n",
    "        preds.append(np.argmax(outputs.to('cpu').numpy()).tolist())"
   ],
   "metadata": {
    "collapsed": false,
    "pycharm": {
     "name": "#%%\n"
    }
   }
  },
  {
   "cell_type": "code",
   "execution_count": null,
   "outputs": [],
   "source": [
    "print(preds)"
   ],
   "metadata": {
    "collapsed": false,
    "pycharm": {
     "name": "#%%\n"
    }
   }
  },
  {
   "cell_type": "markdown",
   "source": [
    "## save result"
   ],
   "metadata": {
    "collapsed": false
   }
  },
  {
   "cell_type": "code",
   "execution_count": null,
   "outputs": [],
   "source": [
    "# Creating submission file\n",
    "df = pd.read_csv(cfg.pathtocsv)\n",
    "df.head()\n",
    "df[\"label\"] = preds\n",
    "df.to_csv('/kaggle/working/submission.csv', index=False)\n",
    "df.head()\n"
   ],
   "metadata": {
    "collapsed": false,
    "pycharm": {
     "name": "#%%\n"
    }
   }
  }
 ],
 "metadata": {
  "kernelspec": {
   "display_name": "Python 3",
   "language": "python",
   "name": "python3"
  },
  "language_info": {
   "codemirror_mode": {
    "name": "ipython",
    "version": 2
   },
   "file_extension": ".py",
   "mimetype": "text/x-python",
   "name": "python",
   "nbconvert_exporter": "python",
   "pygments_lexer": "ipython2",
   "version": "2.7.6"
  },
  "pycharm": {
   "stem_cell": {
    "cell_type": "raw",
    "source": [],
    "metadata": {
     "collapsed": false
    }
   }
  }
 },
 "nbformat": 4,
 "nbformat_minor": 0
}